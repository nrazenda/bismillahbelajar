{
  "nbformat": 4,
  "nbformat_minor": 0,
  "metadata": {
    "colab": {
      "name": "Bismillah",
      "provenance": [],
      "collapsed_sections": [],
      "authorship_tag": "ABX9TyNDvL4/Hq7b33AW5yENtkNx",
      "include_colab_link": true
    },
    "kernelspec": {
      "name": "python3",
      "display_name": "Python 3"
    }
  },
  "cells": [
    {
      "cell_type": "markdown",
      "metadata": {
        "id": "view-in-github",
        "colab_type": "text"
      },
      "source": [
        "<a href=\"https://colab.research.google.com/github/nrazenda/bismillahbelajar/blob/master/Bismillah.ipynb\" target=\"_parent\"><img src=\"https://colab.research.google.com/assets/colab-badge.svg\" alt=\"Open In Colab\"/></a>"
      ]
    },
    {
      "cell_type": "code",
      "metadata": {
        "id": "FTN-YmcUUuVK",
        "colab_type": "code",
        "colab": {}
      },
      "source": [
        "Berat = 53\n",
        "Tinggi = 1.68\n",
        "bmi = Berat/((Tinggi)**2)\n",
        "print(bmi)"
      ],
      "execution_count": null,
      "outputs": []
    },
    {
      "cell_type": "code",
      "metadata": {
        "id": "X8AHuE6nhkS7",
        "colab_type": "code",
        "colab": {
          "base_uri": "https://localhost:8080/",
          "height": 34
        },
        "outputId": "ea1abf16-de5e-441e-b3bd-84f3bff1fbac"
      },
      "source": [
        "#augmented assignment operator\n",
        "some_value = 5\n",
        "some_value *= 2\n",
        "print(some_value)"
      ],
      "execution_count": null,
      "outputs": [
        {
          "output_type": "stream",
          "text": [
            "10\n"
          ],
          "name": "stdout"
        }
      ]
    },
    {
      "cell_type": "code",
      "metadata": {
        "id": "MyjWXBbAjF3c",
        "colab_type": "code",
        "colab": {
          "base_uri": "https://localhost:8080/",
          "height": 136
        },
        "outputId": "3d3cf025-bc4f-4447-8a04-7285272d52f5"
      },
      "source": [
        "#string\n",
        "print (type('Hi there!'))\n",
        "print (type(\"Hi there!\"))\n",
        "username = 'nrazenda'\n",
        "password = 'kepobgtsi'\n",
        "long_string = '''\n",
        "WOW\n",
        "-_-\n",
        "___\n",
        "'''\n",
        "print(long_string)"
      ],
      "execution_count": null,
      "outputs": [
        {
          "output_type": "stream",
          "text": [
            "<class 'str'>\n",
            "<class 'str'>\n",
            "\n",
            "WOW\n",
            "-_-\n",
            "___\n",
            "\n"
          ],
          "name": "stdout"
        }
      ]
    },
    {
      "cell_type": "code",
      "metadata": {
        "id": "c_PJdtmrmqOr",
        "colab_type": "code",
        "colab": {
          "base_uri": "https://localhost:8080/",
          "height": 34
        },
        "outputId": "3820c80e-817b-4530-dac7-17b156559271"
      },
      "source": [
        "#Type Convertion\n",
        "a = str(100)\n",
        "b = int(a)\n",
        "c = type(b)\n",
        "print(c)"
      ],
      "execution_count": null,
      "outputs": [
        {
          "output_type": "stream",
          "text": [
            "<class 'int'>\n"
          ],
          "name": "stdout"
        }
      ]
    }
  ]
}